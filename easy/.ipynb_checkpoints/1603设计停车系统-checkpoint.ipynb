{
 "cells": [
  {
   "cell_type": "markdown",
   "metadata": {},
   "source": [
    "请你给一个停车场设计一个停车系统。停车场总共有三种不同大小的车位：大，中和小，每种尺寸分别有固定数目的车位。\n",
    "\n",
    "请你实现 ParkingSystem 类：\n",
    "\n",
    "ParkingSystem(int big, int medium, int small) 初始化 ParkingSystem 类，三个参数分别对应每种停车位的数目。\n",
    "bool addCar(int carType) 检查是否有 carType 对应的停车位。 carType 有三种类型：大，中，小，分别用数字 1， 2 和 3 表示。一辆车只能停在  carType 对应尺寸的停车位中。如果没有空车位，请返回 false ，否则将该车停入车位并返回 true 。\n",
    " \n",
    "\n",
    "示例 1：\n",
    "\n",
    "输入：\n",
    "[\"ParkingSystem\", \"addCar\", \"addCar\", \"addCar\", \"addCar\"]\n",
    "[[1, 1, 0], [1], [2], [3], [1]]\n",
    "输出：\n",
    "[null, true, true, false, false]\n",
    "\n",
    "解释：\n",
    "ParkingSystem parkingSystem = new ParkingSystem(1, 1, 0);\n",
    "parkingSystem.addCar(1); // 返回 true ，因为有 1 个空的大车位\n",
    "parkingSystem.addCar(2); // 返回 true ，因为有 1 个空的中车位\n",
    "parkingSystem.addCar(3); // 返回 false ，因为没有空的小车位\n",
    "parkingSystem.addCar(1); // 返回 false ，因为没有空的大车位，唯一一个大车位已经被占据了\n",
    " \n",
    "\n",
    "提示：\n",
    "\n",
    "0 <= big, medium, small <= 1000\n",
    "carType 取值为 1， 2 或 3\n",
    "最多会调用 addCar 函数 1000 次\n"
   ]
  },
  {
   "cell_type": "code",
   "execution_count": 1,
   "metadata": {},
   "outputs": [],
   "source": [
    "class ParkingSystem:\n",
    "\n",
    "    def __init__(self, big: int, medium: int, small: int):\n",
    "        self.big = big\n",
    "        self.medium = medium\n",
    "        self.small = small\n",
    "\n",
    "    def addCar(self, carType: int) -> bool:\n",
    "        if carType == 1:\n",
    "            if self.big >= 1:\n",
    "                self.big = self.big - 1\n",
    "                return True\n",
    "            else:\n",
    "                return False\n",
    "        elif carType == 2:\n",
    "            if self.medium >= 1:\n",
    "                self.medium = self.medium - 1\n",
    "                return True\n",
    "            else:\n",
    "                return False\n",
    "        elif carType == 3:\n",
    "            if self.small >= 1:\n",
    "                self.small = self.small - 1\n",
    "                return True\n",
    "            else:\n",
    "                return False\n",
    "                \n",
    "# Your ParkingSystem object will be instantiated and called as such:\n",
    "# obj = ParkingSystem(big, medium, small)\n",
    "# param_1 = obj.addCar(carType)"
   ]
  },
  {
   "cell_type": "code",
   "execution_count": 5,
   "metadata": {},
   "outputs": [],
   "source": [
    "obj = ParkingSystem(1, 1, 0)\n",
    "para_1 = obj.addCar(1)\n",
    "para_2 = obj.addCar(2)\n",
    "para_3 = obj.addCar(3)\n",
    "para_4 = obj.addCar(1)"
   ]
  },
  {
   "cell_type": "code",
   "execution_count": 8,
   "metadata": {},
   "outputs": [
    {
     "data": {
      "text/plain": [
       "[True, True, False, False]"
      ]
     },
     "execution_count": 8,
     "metadata": {},
     "output_type": "execute_result"
    }
   ],
   "source": [
    "[para_1, para_2, para_3, para_4]"
   ]
  },
  {
   "attachments": {},
   "cell_type": "markdown",
   "metadata": {},
   "source": []
  }
 ],
 "metadata": {
  "kernelspec": {
   "display_name": "Python 3",
   "language": "python",
   "name": "python3"
  },
  "language_info": {
   "codemirror_mode": {
    "name": "ipython",
    "version": 3
   },
   "file_extension": ".py",
   "mimetype": "text/x-python",
   "name": "python",
   "nbconvert_exporter": "python",
   "pygments_lexer": "ipython3",
   "version": "3.8.3"
  }
 },
 "nbformat": 4,
 "nbformat_minor": 4
}
