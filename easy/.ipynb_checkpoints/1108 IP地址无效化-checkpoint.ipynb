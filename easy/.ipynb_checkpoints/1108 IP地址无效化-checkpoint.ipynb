{
 "cells": [
  {
   "cell_type": "markdown",
   "metadata": {},
   "source": [
    "1108. IP 地址无效化\n",
    "给你一个有效的 IPv4 地址 address，返回这个 IP 地址的无效化版本。\n",
    "\n",
    "所谓无效化 IP 地址，其实就是用 \"[.]\" 代替了每个 \".\"。\n",
    "\n",
    " \n",
    "\n",
    "示例 1：\n",
    "\n",
    "输入：address = \"1.1.1.1\"\n",
    "输出：\"1[.]1[.]1[.]1\"\n",
    "示例 2：\n",
    "\n",
    "输入：address = \"255.100.50.0\"\n",
    "输出：\"255[.]100[.]50[.]0\"\n",
    " \n",
    "\n",
    "提示：\n",
    "\n",
    "给出的 address 是一个有效的 IPv4 地址"
   ]
  },
  {
   "cell_type": "code",
   "execution_count": 7,
   "metadata": {},
   "outputs": [
    {
     "data": {
      "text/plain": [
       "'1.1.1.1'"
      ]
     },
     "execution_count": 7,
     "metadata": {},
     "output_type": "execute_result"
    }
   ],
   "source": [
    "string = \"1.1.1.1\"\n",
    "string"
   ]
  },
  {
   "cell_type": "code",
   "execution_count": null,
   "metadata": {},
   "outputs": [],
   "source": [
    "string.replace(\".\",\"[.]\")"
   ]
  }
 ],
 "metadata": {
  "kernelspec": {
   "display_name": "Python 3",
   "language": "python",
   "name": "python3"
  },
  "language_info": {
   "codemirror_mode": {
    "name": "ipython",
    "version": 3
   },
   "file_extension": ".py",
   "mimetype": "text/x-python",
   "name": "python",
   "nbconvert_exporter": "python",
   "pygments_lexer": "ipython3",
   "version": "3.8.3"
  }
 },
 "nbformat": 4,
 "nbformat_minor": 4
}
