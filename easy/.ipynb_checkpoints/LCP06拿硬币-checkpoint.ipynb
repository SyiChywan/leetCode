{
 "cells": [
  {
   "cell_type": "markdown",
   "metadata": {},
   "source": [
    "LCP 06. 拿硬币\n",
    "桌上有 n 堆力扣币，每堆的数量保存在数组 coins 中。我们每次可以选择任意一堆，拿走其中的一枚或者两枚，求拿完所有力扣币的最少次数。\n",
    "\n",
    "示例 1：\n",
    "\n",
    "输入：[4,2,1]\n",
    "\n",
    "输出：4\n",
    "\n",
    "解释：第一堆力扣币最少需要拿 2 次，第二堆最少需要拿 1 次，第三堆最少需要拿 1 次，总共 4 次即可拿完。\n",
    "\n",
    "示例 2：\n",
    "\n",
    "输入：[2,3,10]\n",
    "\n",
    "输出：8\n",
    "\n",
    "限制：\n",
    "\n",
    "1 <= n <= 4\n",
    "1 <= coins[i] <= 10"
   ]
  },
  {
   "cell_type": "code",
   "execution_count": 9,
   "metadata": {},
   "outputs": [],
   "source": [
    "coins1 = [2,3,5,10]\n",
    "def minCount(coins) -> int:\n",
    "    count = 0\n",
    "    for item in coins:\n",
    "        if item == 0:\n",
    "            cotinue\n",
    "        elif item <= 2:\n",
    "            count+=1\n",
    "            continue\n",
    "        else:\n",
    "            if item % 2 == 0:\n",
    "                count += item // 2\n",
    "                continue\n",
    "            else:\n",
    "                count += item // 2 + 1\n",
    "                continue\n",
    "    return count\n",
    "        "
   ]
  },
  {
   "cell_type": "code",
   "execution_count": 10,
   "metadata": {},
   "outputs": [
    {
     "data": {
      "text/plain": [
       "11"
      ]
     },
     "execution_count": 10,
     "metadata": {},
     "output_type": "execute_result"
    }
   ],
   "source": [
    "coins1 = [2,3,5,10]\n",
    "minCount(coins1)"
   ]
  },
  {
   "cell_type": "code",
   "execution_count": null,
   "metadata": {},
   "outputs": [],
   "source": []
  }
 ],
 "metadata": {
  "kernelspec": {
   "display_name": "Python 3",
   "language": "python",
   "name": "python3"
  },
  "language_info": {
   "codemirror_mode": {
    "name": "ipython",
    "version": 3
   },
   "file_extension": ".py",
   "mimetype": "text/x-python",
   "name": "python",
   "nbconvert_exporter": "python",
   "pygments_lexer": "ipython3",
   "version": "3.8.3"
  }
 },
 "nbformat": 4,
 "nbformat_minor": 4
}
